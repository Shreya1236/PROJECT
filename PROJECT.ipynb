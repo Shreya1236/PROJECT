{
 "cells": [
  {
   "cell_type": "code",
   "execution_count": 43,
   "id": "02dfb8cf-3a9b-49d4-b387-55e8faae301b",
   "metadata": {},
   "outputs": [],
   "source": [
    "import pandas as pd\n",
    "import numpy as np"
   ]
  },
  {
   "cell_type": "code",
   "execution_count": 44,
   "id": "cc40907f-708f-4dd8-afef-e9a65cfbd34c",
   "metadata": {},
   "outputs": [],
   "source": [
    "movie=pd.read_csv(r\"C:\\Users\\Lenovo\\Desktop\\Shreya\\movie_data\\movies.csv\")"
   ]
  },
  {
   "cell_type": "code",
   "execution_count": 45,
   "id": "e812a36a-8a74-45bc-a455-2c6d1ab16505",
   "metadata": {},
   "outputs": [],
   "source": [
    "rating=pd.read_csv(r\"C:\\Users\\Lenovo\\Desktop\\Shreya\\movie_data\\ratings.csv\")"
   ]
  },
  {
   "cell_type": "code",
   "execution_count": 46,
   "id": "6b8fa132-a564-438f-8357-276046cedfd7",
   "metadata": {},
   "outputs": [],
   "source": [
    "tag=pd.read_csv(r\"C:\\Users\\Lenovo\\Desktop\\Shreya\\movie_data\\tags.csv\")"
   ]
  },
  {
   "cell_type": "code",
   "execution_count": 47,
   "id": "123af93a-8e43-42a2-9941-6d2ce593a959",
   "metadata": {},
   "outputs": [],
   "source": [
    "link=pd.read_csv(r\"C:\\Users\\Lenovo\\Desktop\\Shreya\\movie_data\\links.csv\")"
   ]
  },
  {
   "cell_type": "code",
   "execution_count": 48,
   "id": "5f4c7c44-162a-4f66-9343-e49079cbd328",
   "metadata": {},
   "outputs": [
    {
     "data": {
      "text/plain": [
       "(9742, 3)"
      ]
     },
     "execution_count": 48,
     "metadata": {},
     "output_type": "execute_result"
    }
   ],
   "source": [
    "movie.shape"
   ]
  },
  {
   "cell_type": "code",
   "execution_count": 49,
   "id": "7e3da533-19a6-48ed-9290-d8fd5a2b3bd3",
   "metadata": {},
   "outputs": [
    {
     "data": {
      "text/plain": [
       "(100836, 4)"
      ]
     },
     "execution_count": 49,
     "metadata": {},
     "output_type": "execute_result"
    }
   ],
   "source": [
    "rating.shape"
   ]
  },
  {
   "cell_type": "code",
   "execution_count": 50,
   "id": "e6b72255-7fc4-422a-93bc-a820fba037b2",
   "metadata": {},
   "outputs": [
    {
     "data": {
      "text/plain": [
       "610"
      ]
     },
     "execution_count": 50,
     "metadata": {},
     "output_type": "execute_result"
    }
   ],
   "source": [
    "rating.userId.nunique()"
   ]
  },
  {
   "cell_type": "code",
   "execution_count": 51,
   "id": "a8ffd851-2ac0-405c-abd1-7d376ea306f4",
   "metadata": {},
   "outputs": [
    {
     "name": "stdout",
     "output_type": "stream",
     "text": [
      "The movie with the maximum number of ratings is: Forrest Gump (1994) with 329 ratings.\n"
     ]
    }
   ],
   "source": [
    "ratings_count = rating.groupby('movieId').size().reset_index(name='rating_count')\n",
    "movie_ratings = pd.merge(ratings_count, movie, on='movieId')\n",
    "most_rated_movie = movie_ratings.loc[movie_ratings['rating_count'].idxmax()]\n",
    "print(f\"The movie with the maximum number of ratings is: {most_rated_movie['title']} with {most_rated_movie['rating_count']} ratings.\")"
   ]
  },
  {
   "cell_type": "code",
   "execution_count": 52,
   "id": "ab0ee17f-42c5-4ea2-a3b2-80b573b10e49",
   "metadata": {},
   "outputs": [
    {
     "name": "stdout",
     "output_type": "stream",
     "text": [
      "Tags submitted for 'Matrix, The (1999)': ['martial arts', 'sci-fi', 'alternate universe', 'philosophy', 'post apocalyptic']\n"
     ]
    }
   ],
   "source": [
    "matrix_movie_id = movie[movie['title'] == 'Matrix, The (1999)']['movieId'].values[0]\n",
    "matrix_tags = tag[tag['movieId'] == matrix_movie_id]['tag'].unique()\n",
    "print(f\"Tags submitted for 'Matrix, The (1999)': {list(matrix_tags)}\")\n"
   ]
  },
  {
   "cell_type": "code",
   "execution_count": 53,
   "id": "777d3894-6191-49ba-b1f0-a5f2e948fb15",
   "metadata": {},
   "outputs": [
    {
     "name": "stdout",
     "output_type": "stream",
     "text": [
      "The average user rating for 'Terminator 2: Judgment Day (1991)' is: 3.97\n"
     ]
    }
   ],
   "source": [
    "terminator_movie_id = movie[movie['title'] == 'Terminator 2: Judgment Day (1991)']['movieId'].values[0]\n",
    "\n",
    "# Filter the ratings associated with this movieId\n",
    "terminator_ratings = rating[rating['movieId'] == terminator_movie_id]\n",
    "\n",
    "# Calculate the average rating\n",
    "average_rating = terminator_ratings['rating'].mean()\n",
    "\n",
    "# Display the result\n",
    "print(f\"The average user rating for 'Terminator 2: Judgment Day (1991)' is: {average_rating:.2f}\")"
   ]
  },
  {
   "cell_type": "code",
   "execution_count": 54,
   "id": "d90e8d46-df26-4dfc-9c8c-a4817df18f14",
   "metadata": {},
   "outputs": [
    {
     "data": {
      "image/png": "[encoded data removed]",
      "text/plain": [
       "<Figure size 640x480 with 1 Axes>"
      ]
     },
     "metadata": {},
     "output_type": "display_data"
    }
   ],
   "source": [
    "import pandas as pd\n",
    "import matplotlib.pyplot as plt\n",
    "\n",
    "\n",
    "\n",
    "# Find the movieId for \"Fight Club (1999)\"\n",
    "fight_club_movie_id = movie[movie['title'] == 'Fight Club (1999)']['movieId'].values[0]\n",
    "\n",
    "# Filter the ratings associated with this movieId\n",
    "fight_club_ratings = rating[rating['movieId'] == fight_club_movie_id]['rating']\n",
    "\n",
    "# Plot the distribution of ratings\n",
    "plt.hist(fight_club_ratings, bins=10, edgecolor='black')\n",
    "plt.title('User Rating Distribution for \"Fight Club (1999)\"')\n",
    "plt.xlabel('Rating')\n",
    "plt.ylabel('Frequency')\n",
    "plt.show()"
   ]
  },
  {
   "cell_type": "code",
   "execution_count": 55,
   "id": "6ab42951-71d5-4229-88f5-c07a378217be",
   "metadata": {},
   "outputs": [
    {
     "name": "stdout",
     "output_type": "stream",
     "text": [
      "title    Shawshank Redemption, The (1994)\n",
      "mean                             4.429022\n",
      "Name: 277, dtype: object\n"
     ]
    }
   ],
   "source": [
    "# Step 1: Group by movieId and aggregate\n",
    "rating_counts = rating.groupby('movieId').size()\n",
    "rating_means = rating.groupby('movieId')['rating'].mean()\n",
    "\n",
    "# Create a DataFrame with the aggregated data\n",
    "rating_summary = pd.DataFrame({\n",
    "    'count': rating_counts,\n",
    "    'mean': rating_means\n",
    "}).reset_index()\n",
    "\n",
    "# Step 2: Inner join with movies DataFrame\n",
    "movies_with_ratings = pd.merge(movie, rating_summary, on='movieId')\n",
    "\n",
    "# Step 3: Filter movies with more than 50 ratings\n",
    "popular_movies = movies_with_ratings[movies_with_ratings['count'] > 50]\n",
    "\n",
    "# Find the movie with the highest average rating\n",
    "most_popular_movie = popular_movies.sort_values(by='mean', ascending=False).iloc[0]\n",
    "\n",
    "print(most_popular_movie[['title', 'mean']])"
   ]
  },
  {
   "cell_type": "code",
   "execution_count": 56,
   "id": "f6c1d4c1-9ca1-4505-bf23-074d6e252961",
   "metadata": {},
   "outputs": [
    {
     "name": "stdout",
     "output_type": "stream",
     "text": [
      "                                 title  count\n",
      "314                Forrest Gump (1994)    329\n",
      "277   Shawshank Redemption, The (1994)    317\n",
      "257                Pulp Fiction (1994)    307\n",
      "510   Silence of the Lambs, The (1991)    279\n",
      "1938                Matrix, The (1999)    278\n"
     ]
    }
   ],
   "source": [
    "#Step 1: Group by movieId and aggregate\n",
    "rating_counts = rating.groupby('movieId').size()\n",
    "rating_means = rating.groupby('movieId')['rating'].mean()\n",
    "\n",
    "# Create a DataFrame with the aggregated data\n",
    "rating_summary = pd.DataFrame({\n",
    "    'count': rating_counts,\n",
    "    'mean': rating_means\n",
    "}).reset_index()\n",
    "\n",
    "# Step 2: Inner join with movies DataFrame\n",
    "movies_with_ratings = pd.merge(movie, rating_summary, on='movieId')\n",
    "\n",
    "# Step 3: Filter movies with more than 50 ratings\n",
    "popular_movies = movies_with_ratings[movies_with_ratings['count'] > 50]\n",
    "\n",
    "# Check the top movies based on count\n",
    "top_movies = popular_movies.sort_values(by='count', ascending=False)\n",
    "\n",
    "print(top_movies[['title', 'count']].head(5))"
   ]
  },
  {
   "cell_type": "code",
   "execution_count": 57,
   "id": "817db491-be0e-405a-8a0f-6ea90fdca11b",
   "metadata": {},
   "outputs": [
    {
     "name": "stdout",
     "output_type": "stream",
     "text": [
      "title    Jurassic Park (1993)\n",
      "count                     238\n",
      "Name: 418, dtype: object\n"
     ]
    }
   ],
   "source": [
    "# Filter Sci-Fi movies\n",
    "sci_fi_movies = popular_movies[popular_movies['genres'].str.contains('Sci-Fi', case=False, na=False)]\n",
    "\n",
    "# Sort Sci-Fi movies by the number of ratings\n",
    "sci_fi_sorted = sci_fi_movies.sort_values(by='count', ascending=False)\n",
    "\n",
    "# Get the third most popular Sci-Fi movie\n",
    "third_most_popular_sci_fi = sci_fi_sorted.iloc[2]\n",
    "\n",
    "print(third_most_popular_sci_fi[['title', 'count']])"
   ]
  },
  {
   "cell_type": "code",
   "execution_count": 58,
   "id": "39ba577f-468b-43fa-923d-c0ee74c3f6cb",
   "metadata": {},
   "outputs": [],
   "source": [
    "import requests\n",
    "import numpy as np\n",
    "from bs4 import BeautifulSoup\n",
    "\n",
    "def scrapper(imdbId):\n",
    "    id = str(int(imdbId))\n",
    "    n_zeroes = 7 - len(id)\n",
    "    new_id = \"0\"*n_zeroes + id\n",
    "    URL = f\"https://www.imdb.com/title/tt{new_id}/\"\n",
    "    request_header = {'Content-Type': 'text/html; charset=UTF-8', \n",
    "                      'User-Agent': 'Mozilla/5.0 (Windows NT 10.0; Win64; x64; rv:109.0) Gecko/20100101 Firefox/119.0', \n",
    "                      'Accept-Encoding': 'gzip, deflate, br'}\n",
    "    response = requests.get(URL, headers=request_header)\n",
    "    soup = BeautifulSoup(response.text)\n",
    "    imdb_rating = soup.find('span',  itemprop='ratingValue')\n",
    "    return imdb_rating.text if imdb_rating else np.nan"
   ]
  },
  {
   "cell_type": "code",
   "execution_count": null,
   "id": "e48838d7-072a-4dd8-a310-3136f8682fce",
   "metadata": {},
   "outputs": [],
   "source": [
    "import requests\n",
    "from bs4 import BeautifulSoup\n",
    "import pandas as pd\n",
    "\n",
    "def get_imdb_rating(imdb_id):\n",
    "    url = f'https://www.imdb.com/title/{imdb_id}/'\n",
    "    response = requests.get(url)\n",
    "    soup = BeautifulSoup(response.text, 'html.parser')\n",
    "    \n",
    "    # Find the rating\n",
    "    rating = soup.find('span', itemprop='ratingValue')\n",
    "    if rating:\n",
    "        return float(rating.text)\n",
    "    return None\n",
    "\n",
    "# Assuming 'imdbId' column in links DataFrame\n",
    "link['rating'] = link['imdbId'].apply(get_imdb_rating)\n",
    "\n",
    "# Find the movie with the highest IMDB rating\n",
    "highest_rated_movie = link.loc[link['rating'].idxmax()]\n",
    "\n",
    "print(f\"Movie ID with highest IMDB rating: {highest_rated_movie['movieId']}\")\n",
    "\n"
   ]
  },
  {
   "cell_type": "code",
   "execution_count": null,
   "id": "ec3749a7-ba87-4ffa-b625-39f84f203dbf",
   "metadata": {},
   "outputs": [],
   "source": [
    "import requests\n",
    "from bs4 import BeautifulSoup\n",
    "import pandas as pd\n",
    "\n",
    "def get_imdb_rating(imdb_id):\n",
    "    # Ensure imdb_id is a string\n",
    "    imdb_id = str(imdb_id)\n",
    "    url = f'https://www.imdb.com/title/tt{imdb_id}/'\n",
    "    response = requests.get(url)\n",
    "    soup = BeautifulSoup(response.text, 'html.parser')\n",
    "    \n",
    "    # Find the rating\n",
    "    rating = soup.find('span', itemprop='ratingValue')\n",
    "    if rating:\n",
    "        return float(rating.text)\n",
    "    return None\n",
    "\n",
    "# Assuming 'imdbId' column in links DataFrame\n",
    "link['rating'] = link['imdbId'].apply(get_imdb_rating)\n",
    "\n",
    "# Merge links and movies DataFrames\n",
    "link = pd.merge(link, movie, on='movieId')\n",
    "\n",
    "# Filter Sci-Fi movies\n",
    "sci_fi_movies = link[link['genres'].str.contains('Sci-Fi', case=False, na=False)]\n",
    "\n",
    "# Remove rows with NaN ratings\n",
    "sci_fi_movies = sci_fi_movie.dropna(subset=['rating'])\n",
    "\n",
    "# Find the Sci-Fi movie with the highest IMDB rating\n",
    "if not sci_fi_movies.empty:\n",
    "    highest_rated_sci_fi = sci_fi_movies.loc[sci_fi_movies['rating'].idxmax()]\n",
    "    print(f\"Sci-Fi Movie ID with highest IMDB rating: {highest_rated_sci_fi['movieId']}\")\n",
    "else:\n",
    "    print(\"No valid IMDB ratings found for Sci-Fi movies.\")"
   ]
  },
  {
   "cell_type": "code",
   "execution_count": null,
   "id": "51a9ad63-3104-45d1-900d-343e349047c7",
   "metadata": {},
   "outputs": [],
   "source": []
  },
  {
   "cell_type": "code",
   "execution_count": null,
   "id": "60a1da22-fdd4-4490-983e-fff09dea829c",
   "metadata": {},
   "outputs": [],
   "source": []
  },
  {
   "cell_type": "code",
   "execution_count": null,
   "id": "c02ae2d9-50c6-47f1-9265-820624225dc9",
   "metadata": {},
   "outputs": [],
   "source": []
  }
 ],
 "metadata": {
  "kernelspec": {
   "display_name": "Python 3 (ipykernel)",
   "language": "python",
   "name": "python3"
  },
  "language_info": {
   "codemirror_mode": {
    "name": "ipython",
    "version": 3
   },
   "file_extension": ".py",
   "mimetype": "text/x-python",
   "name": "python",
   "nbconvert_exporter": "python",
   "pygments_lexer": "ipython3",
   "version": "3.11.7"
  }
 },
 "nbformat": 4,
 "nbformat_minor": 5
}
